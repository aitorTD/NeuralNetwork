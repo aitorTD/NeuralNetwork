{
  "nbformat": 4,
  "nbformat_minor": 0,
  "metadata": {
    "colab": {
      "provenance": []
    },
    "kernelspec": {
      "name": "python3",
      "display_name": "Python 3"
    },
    "language_info": {
      "name": "python"
    }
  },
  "cells": [
    {
      "cell_type": "markdown",
      "source": [
        "# Backpropagation\n",
        "- [Vídeo](https://www.youtube.com/watch?v=7qYtIveJ6hU) 19:45"
      ],
      "metadata": {
        "id": "TFOFhlMc-OK2"
      }
    },
    {
      "cell_type": "code",
      "execution_count": 1,
      "metadata": {
        "id": "xCNohl6N-GjR"
      },
      "outputs": [],
      "source": [
        "import numpy as np"
      ]
    },
    {
      "cell_type": "code",
      "source": [
        "# X = (hours sleeping, hours studying), y = test score of the student\n",
        "X = np.array(([2, 9], [1, 5], [3, 6]), dtype=float)\n",
        "y = np.array(([92], [86], [89]), dtype=float)\n",
        "\n",
        "#scale units\n",
        "X = X/np.amax(X, axis=0)\n",
        "y = y/100\n",
        "\n",
        "print(X)\n",
        "print(y)\n"
      ],
      "metadata": {
        "colab": {
          "base_uri": "https://localhost:8080/"
        },
        "id": "A2i4knYE-dCV",
        "outputId": "0c689420-b247-4632-8c07-c1d6d4f781f2"
      },
      "execution_count": 2,
      "outputs": [
        {
          "output_type": "stream",
          "name": "stdout",
          "text": [
            "[[0.66666667 1.        ]\n",
            " [0.33333333 0.55555556]\n",
            " [1.         0.66666667]]\n",
            "[[0.92]\n",
            " [0.86]\n",
            " [0.89]]\n"
          ]
        }
      ]
    },
    {
      "cell_type": "code",
      "source": [
        "class NeuralNetwork(object):\n",
        "  def __init__(self):\n",
        "    #parameters\n",
        "    self.inputSize = 2\n",
        "    self.outputSize = 1\n",
        "    self.hiddenSize = 3\n",
        "\n",
        "    #weights\n",
        "    self.W1 = np.random.randn(self.inputSize, self.hiddenSize)\n",
        "    self.W2 = np.random.randn(self.hiddenSize, self.outputSize)\n",
        "  \n",
        "  def feedForward(self, X):\n",
        "    #forward propagartion through the network\n",
        "    self.z =  np.dot(X, self.W1)\n",
        "    self.z2 = self.sigmoid(self.z) #activation function\n",
        "    self.z3 = np.dot(self.z2, self.W2)\n",
        "    output = self.sigmoid(self.z3)\n",
        "    return output\n",
        "\n",
        "  def sigmoid(self, s, deriv=False):\n",
        "    if (deriv == True):\n",
        "      return s * (1 - s)\n",
        "    return 1/(1 + np.exp(-s))\n",
        "\n",
        "  def backward(self, X, y, output):\n",
        "    #backward propagate through the network\n",
        "    self.output_error = y - output #error in output\n",
        "    self.output_delta = self.output_error * self.sigmoid(output, deriv=True)\n",
        "\n",
        "    self.z2_error = self.output_delta.dot(self.W2.T) # z2 error, how much our hidden layer weights contribute to output error\n",
        "    self.z2_delta = self.z2_error * self.sigmoid(self.z2, deriv=True)\n",
        "\n",
        "    self.W1 += X.T.dot(self.z2_delta) # adjusting first set (input -> hidden) weights\n",
        "    self.W2 += self.z2.T.dot(self.output_delta) # adjusting second set (hidden -> input)\n",
        "\n",
        "  def train(self, X, y):\n",
        "    output = self.feedForward(X)\n",
        "    self.backward(X, y, output)\n",
        "\n",
        "NN = NeuralNetwork()\n",
        "\n",
        "for i in range(1000): # trains the neural network 1000 times\n",
        "  NN.train(X, y)\n",
        "\n",
        "print('Input: ' + str(X))\n",
        "print('Actual output: ' + str(y))\n",
        "print('Loss: ' + str(np.mean(np.square(y - NN.feedForward(X)))))\n",
        "print('\\n')\n",
        "print('Predicted Output: ' + str(NN.feedForward(X)))"
      ],
      "metadata": {
        "id": "cZSvN8n8OpWs",
        "colab": {
          "base_uri": "https://localhost:8080/"
        },
        "outputId": "35230df7-ecfe-4d01-c845-f3af52d35360"
      },
      "execution_count": 6,
      "outputs": [
        {
          "output_type": "stream",
          "name": "stdout",
          "text": [
            "Input: [[0.66666667 1.        ]\n",
            " [0.33333333 0.55555556]\n",
            " [1.         0.66666667]]\n",
            "Actual output: [[0.92]\n",
            " [0.86]\n",
            " [0.89]]\n",
            "Loss: 0.0004985804229384964\n",
            "\n",
            "\n",
            "Predicted Output: [[0.89030199]\n",
            " [0.88209332]\n",
            " [0.90120959]]\n"
          ]
        }
      ]
    }
  ]
}