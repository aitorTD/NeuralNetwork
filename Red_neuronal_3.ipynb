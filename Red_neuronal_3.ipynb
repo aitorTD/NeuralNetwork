{
  "nbformat": 4,
  "nbformat_minor": 0,
  "metadata": {
    "colab": {
      "provenance": []
    },
    "kernelspec": {
      "name": "python3",
      "display_name": "Python 3"
    },
    "language_info": {
      "name": "python"
    }
  },
  "cells": [
    {
      "cell_type": "code",
      "execution_count": 3,
      "metadata": {
        "id": "rtDzqDXt4He2"
      },
      "outputs": [],
      "source": [
        "import numpy as np"
      ]
    },
    {
      "cell_type": "code",
      "source": [
        "class NeuralNetwork():\n",
        "  \n",
        "  def __init__(self):\n",
        "    np.random.seed(1)\n",
        "    self.synaptic_weights = 2 * np.random.random((3, 1)) - 1\n",
        "\n",
        "  def sigmoid(self, x):\n",
        "    return 1 / (1 + np.exp(-x))\n",
        "\n",
        "  def sigmoid_derivative(self, x):\n",
        "    return x * (1 - x)\n",
        "\n",
        "  def train(self, training_inputs, training_outputs, training_iterations):\n",
        "\n",
        "    for iteration in range(training_iterations):\n",
        "      output = self.think(training_inputs)\n",
        "      error = training_outputs - output\n",
        "      adjustments = np.dot(training_inputs.T, error * self.sigmoid_derivative(output))\n",
        "      self.synaptic_weights += adjustments\n",
        "\n",
        "  def think(self, inputs):\n",
        "    inputs = inputs.astype(float)\n",
        "    output = self.sigmoid(np.dot(inputs, self.synaptic_weights))\n",
        "    return output\n",
        "\n",
        "if __name__ == '__main__':\n",
        "  neural_network = NeuralNetwork()\n",
        "\n",
        "  print('Random synaptic weights: ')\n",
        "  print(neural_network.synaptic_weights)\n",
        "\n",
        "  training_inputs = np.array([[0,0,1], \n",
        "                            [1,1,1],\n",
        "                            [1,0,1],\n",
        "                            [0,0,1]])\n",
        "\n",
        "  training_outputs = np.array([[0,1,1,0]]).T\n",
        "\n",
        "  neural_network.train(training_inputs, training_outputs, 10000)\n",
        "\n",
        "  print('Synaptic weights after training: ')\n",
        "  print(neural_network.synaptic_weights)\n",
        "\n",
        "  A = str(input(\"Input 1: \"))\n",
        "  B = str(input(\"Input 2: \"))\n",
        "  C = str(input(\"Input 3: \"))\n",
        "\n",
        "  print('New situation: input data = ', A, B, C)\n",
        "  print('Output data: ')\n",
        "  print(neural_network.think(np.array([A, B, C])))"
      ],
      "metadata": {
        "colab": {
          "base_uri": "https://localhost:8080/"
        },
        "id": "vxvEkpeu4Oaz",
        "outputId": "667601e6-fee9-4f84-e866-7b4b83360f12"
      },
      "execution_count": 7,
      "outputs": [
        {
          "output_type": "stream",
          "name": "stdout",
          "text": [
            "Random synaptic weights: \n",
            "[[-0.16595599]\n",
            " [ 0.44064899]\n",
            " [-0.99977125]]\n",
            "Synaptic weights after training: \n",
            "[[ 9.31872048]\n",
            " [ 1.64174925]\n",
            " [-4.72268986]]\n",
            "Input 1: 1\n",
            "Input 2: 0\n",
            "Input 3: 0\n",
            "New situation: input data =  1 0 0\n",
            "Output data: \n",
            "[0.99991028]\n"
          ]
        }
      ]
    }
  ]
}