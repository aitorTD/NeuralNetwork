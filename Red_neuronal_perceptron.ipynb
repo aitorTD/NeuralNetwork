{
  "nbformat": 4,
  "nbformat_minor": 0,
  "metadata": {
    "colab": {
      "provenance": []
    },
    "kernelspec": {
      "name": "python3",
      "display_name": "Python 3"
    },
    "language_info": {
      "name": "python"
    }
  },
  "cells": [
    {
      "cell_type": "markdown",
      "source": [
        "# Simple Neural Network from Scratch, [Perceptron](https://es.wikipedia.org/wiki/Perceptrón)"
      ],
      "metadata": {
        "id": "TtA8_WBr0f8U"
      }
    },
    {
      "cell_type": "code",
      "execution_count": 1,
      "metadata": {
        "id": "9TuX4udPsHC6"
      },
      "outputs": [],
      "source": [
        "import numpy as np"
      ]
    },
    {
      "cell_type": "code",
      "source": [
        "def sigmoid(x):\n",
        "  return 1 / (1 + np.exp(-x))\n",
        "\n",
        "def sigmoid_derivative(x):\n",
        "  return x * (1 - x)\n",
        "\n",
        "training_inputs = np.array([[0,0,1], \n",
        "                            [1,1,1],\n",
        "                            [1,0,1],\n",
        "                            [0,0,1]])\n",
        "\n",
        "training_outputs = np.array([[0,1,1,0]]).T\n",
        "np.random.seed(1)\n",
        "synaptic_weights = 2 * np. random. random ((3, 1)) - 1\n",
        "\n",
        "print('Random starting synaptic weights: ')\n",
        "print(synaptic_weights)\n",
        "\n",
        "for iteration in range(10000):\n",
        "  input_layer = training_inputs\n",
        "  outputs = sigmoid(np.dot(input_layer, synaptic_weights))\n",
        "  error = training_outputs - outputs\n",
        "  adjustements = error * sigmoid_derivative(outputs)\n",
        "  synaptic_weights += np.dot(input_layer.T, adjustements)\n",
        "\n",
        "print('Synaptics weights after training: ')\n",
        "print(synaptic_weights)\n",
        "\n",
        "print('Outputs after training: ')\n",
        "print(outputs) "
      ],
      "metadata": {
        "colab": {
          "base_uri": "https://localhost:8080/"
        },
        "id": "gVxfCIKssZFX",
        "outputId": "d0b351e2-98de-4d8c-a0a2-fd60ac0186dd"
      },
      "execution_count": 12,
      "outputs": [
        {
          "output_type": "stream",
          "name": "stdout",
          "text": [
            "Random starting synaptic weights: \n",
            "[[-0.16595599]\n",
            " [ 0.44064899]\n",
            " [-0.99977125]]\n",
            "Synaptics weights after training: \n",
            "[[ 9.31872048]\n",
            " [ 1.64174925]\n",
            " [-4.72268986]]\n",
            "Outputs after training: \n",
            "[[0.00881332]\n",
            " [0.99804951]\n",
            " [0.99000851]\n",
            " [0.00881332]]\n"
          ]
        }
      ]
    }
  ]
}